{
 "cells": [
  {
   "cell_type": "code",
   "execution_count": 3,
   "id": "1b89c755-47ac-4731-b7a3-bea7da628bdd",
   "metadata": {
    "collapsed": true,
    "jupyter": {
     "outputs_hidden": true,
     "source_hidden": true
    },
    "tags": []
   },
   "outputs": [
    {
     "name": "stdout",
     "output_type": "stream",
     "text": [
      "Collecting reportlabNote: you may need to restart the kernel to use updated packages.\n",
      "\n",
      "  Downloading reportlab-4.0.6-py3-none-any.whl (1.9 MB)\n",
      "     ---------------------------------------- 1.9/1.9 MB 10.3 MB/s eta 0:00:00\n",
      "Requirement already satisfied: pillow>=9.0.0 in c:\\users\\kaneko-227\\appdata\\local\\anaconda3\\lib\\site-packages (from reportlab) (9.4.0)\n",
      "Installing collected packages: reportlab\n",
      "Successfully installed reportlab-4.0.6\n"
     ]
    }
   ],
   "source": [
    "pip install reportlab"
   ]
  },
  {
   "cell_type": "code",
   "execution_count": 1,
   "id": "7be87b7b-f279-4c27-b4fb-161b226df75c",
   "metadata": {},
   "outputs": [],
   "source": [
    "from PIL import Image\n",
    "from reportlab.pdfgen import canvas\n",
    "\n",
    "def convert_png_to_pdf(png_path, pdf_path):\n",
    "    # 画像を開く\n",
    "    image = Image.open(png_path)\n",
    "    \n",
    "    # PDFのキャンバスを作成\n",
    "    pdf_canvas = canvas.Canvas(pdf_path, pagesize=(image.width, image.height))\n",
    "    \n",
    "    # 画像をPDFに描画\n",
    "    pdf_canvas.drawInlineImage(png_path, 0, 0, width=image.width, height=image.height)\n",
    "    \n",
    "    # PDFを保存\n",
    "    pdf_canvas.save()\n",
    "\n",
    "# 使用例\n",
    "png_path = r\"\\\\svacad03\\D\\個人バックアップ\\金子\\■ショートカット\\お金_2018～\\SCAN\\立替分\\Azure\\202408\\Screenshot_20240815-092233.png\"   #PNGファイルへのパス\n",
    "pdf_path = r\"\\\\svacad03\\D\\個人バックアップ\\金子\\■ショートカット\\お金_2018～\\SCAN\\立替分\\Azure\\202408\\Screenshot_20240815-092233.pdf\"  # 出力PDFファイルへのパス\n",
    "convert_png_to_pdf(png_path, pdf_path)\n"
   ]
  },
  {
   "cell_type": "code",
   "execution_count": null,
   "id": "9823f27e-566c-4963-8113-47e79f1bd9cb",
   "metadata": {},
   "outputs": [],
   "source": []
  }
 ],
 "metadata": {
  "kernelspec": {
   "display_name": "Python 3 (ipykernel)",
   "language": "python",
   "name": "python3"
  },
  "language_info": {
   "codemirror_mode": {
    "name": "ipython",
    "version": 3
   },
   "file_extension": ".py",
   "mimetype": "text/x-python",
   "name": "python",
   "nbconvert_exporter": "python",
   "pygments_lexer": "ipython3",
   "version": "3.10.9"
  }
 },
 "nbformat": 4,
 "nbformat_minor": 5
}
